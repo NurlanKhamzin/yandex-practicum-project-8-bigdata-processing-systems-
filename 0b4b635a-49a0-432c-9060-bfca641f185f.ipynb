{
 "cells": [
  {
   "cell_type": "markdown",
   "id": "cb6ff491",
   "metadata": {},
   "source": [
    "<font color='blue' size=5><b>Комментарий ревьюера</b></font>\n",
    "\n",
    "<font color='blue'>Привет, Нурлан! Меня зовут Павел Григорьев, и я буду проверять этот проект.<br>Моя основная цель - не указать на совершённые тобой ошибки, а поделиться своим опытом и помочь тебе совершенствоваться как профессионалу.<br>Спасибо за проделанную работу! Предлагаю общаться на «ты».</font>\n",
    "<details>\n",
    "\t<summary><u>Инструкция по организационным мометнам (кликабельно)</u></summary>\n",
    "<font color='blue'>Я буду использовать различные цвета, чтобы было удобнее воспринимать мои комментарии:</font>\n",
    "\n",
    "\n",
    "---\n",
    "\n",
    "\n",
    "<font color='blue'>синий текст - просто текст комментария</font>\n",
    "\n",
    "<font color='green'>✔️ и зеленый текст - все отлично</font>\n",
    "\n",
    "<font color='orange'>⚠️ и оранжевый текст - сделано все правильно, однако есть рекомендации, на что стоит обратить внимание</font>\n",
    "\n",
    "<font color='red'>❌ и красный текст - есть недочеты</font>\n",
    "\n",
    "\n",
    "</details>    \n",
    "    </br>\n",
    "<font color='blue'>Пожалуйста, не удаляй мои комментарии в случае возврата работы, так будет проще разобраться, какие были недочеты, а также сразу увидеть исправленное. </font>\n",
    "\n",
    "Ответы на мои комментарии лучше тоже помечать.\n",
    "Например: <font color='purple'><b>Комментарий студента</b></font>\n",
    "\n",
    "<font color='blue'><b>Давай смотреть, что получилось!</b></font>"
   ]
  },
  {
   "cell_type": "markdown",
   "id": "31e2e093",
   "metadata": {},
   "source": [
    "<font color='blue' size=3><b>Комментарий ревьюера 2</b></font>\n",
    "\n",
    "<font color='blue'>Привет еще раз. Спасибо, за исправления. Оформление комментариев по работе сохраняется. Только обозначим, что это вторая итерация.</font>"
   ]
  },
  {
   "cell_type": "markdown",
   "id": "4ea13160",
   "metadata": {},
   "source": [
    "<font color='blue' size=3><b>Комментарий ревьюера 3</b></font>\n",
    "\n",
    "<font color='blue'>Привет еще раз. Спасибо, за исправления. Оформление комментариев по работе сохраняется.</font>"
   ]
  },
  {
   "cell_type": "markdown",
   "id": "GEqQaHzsZ_bA",
   "metadata": {
    "id": "GEqQaHzsZ_bA"
   },
   "source": [
    "## Предсказание стоимости жилья\n",
    "\n",
    "В проекте вам нужно обучить модель линейной регрессии на данных о жилье в Калифорнии в 1990 году. На основе данных нужно предсказать медианную стоимость дома в жилом массиве. Обучите модель и сделайте предсказания на тестовой выборке. Для оценки качества модели используйте метрики RMSE, MAE и R2."
   ]
  },
  {
   "cell_type": "code",
   "execution_count": 118,
   "id": "c9a42e45",
   "metadata": {},
   "outputs": [],
   "source": [
    "import pandas as pd \n",
    "import numpy as np\n",
    "import pyspark\n",
    "from pyspark.sql import SparkSession\n",
    "from pyspark.sql.types import *\n",
    "import pyspark.sql.functions as F\n",
    "#from pyspark.mllib.regression import LabeledPoint, LinearRegressionWithSGD\n",
    "from pyspark.ml.regression import LinearRegression\n",
    "from pyspark.mllib.evaluation import RegressionMetrics\n",
    "from pyspark.mllib.linalg import DenseVector\n",
    "\n",
    "pyspark_version = pyspark.__version__\n",
    "if int(pyspark_version[:1]) == 3:\n",
    "    from pyspark.ml.feature import OneHotEncoder, VectorAssembler, StringIndexer, StandardScaler  \n",
    "\n",
    "RANDOM_SEED = 2022    \n"
   ]
  },
  {
   "cell_type": "code",
   "execution_count": 119,
   "id": "a119574a",
   "metadata": {},
   "outputs": [],
   "source": [
    "spark = SparkSession.builder \\\n",
    "                    .master(\"local\") \\\n",
    "                    .appName(\"ML California Housing\") \\\n",
    "                    .getOrCreate()"
   ]
  },
  {
   "cell_type": "markdown",
   "id": "35145bed",
   "metadata": {},
   "source": [
    "<font color='blue'><b>Комментарий ревьюера: </b></font> ✔️\\\n",
    "<font color='green'> Хорошее оформление импортов! \\\n",
    "Импорты собраны в одной ячейке. Можно ещё сгрупировать импорты по функциональности и разделить группы пустой строкой.</font>"
   ]
  },
  {
   "cell_type": "markdown",
   "id": "f95bc883",
   "metadata": {},
   "source": [
    "<font color='blue'><b>Комментарий ревьюера : </b></font> ⚠️\\\n",
    "<font color='darkorange'> Инициировать Spark сессию и загружать данные лучше отдельно от импортов, что бы не запускать этот код если понадобится дополнять или редактировать импорты.</font>"
   ]
  },
  {
   "cell_type": "markdown",
   "id": "53871372",
   "metadata": {
    "id": "53871372"
   },
   "source": [
    "# Подготовка данных"
   ]
  },
  {
   "cell_type": "code",
   "execution_count": 120,
   "id": "df92e3ec",
   "metadata": {
    "id": "df92e3ec"
   },
   "outputs": [
    {
     "name": "stdout",
     "output_type": "stream",
     "text": [
      "+---------+--------+------------------+-----------+--------------+----------+----------+-------------+------------------+---------------+\n",
      "|longitude|latitude|housing_median_age|total_rooms|total_bedrooms|population|households|median_income|median_house_value|ocean_proximity|\n",
      "+---------+--------+------------------+-----------+--------------+----------+----------+-------------+------------------+---------------+\n",
      "|  -122.23|   37.88|              41.0|      880.0|         129.0|     322.0|     126.0|       8.3252|          452600.0|       NEAR BAY|\n",
      "|  -122.22|   37.86|              21.0|     7099.0|        1106.0|    2401.0|    1138.0|       8.3014|          358500.0|       NEAR BAY|\n",
      "|  -122.24|   37.85|              52.0|     1467.0|         190.0|     496.0|     177.0|       7.2574|          352100.0|       NEAR BAY|\n",
      "|  -122.25|   37.85|              52.0|     1274.0|         235.0|     558.0|     219.0|       5.6431|          341300.0|       NEAR BAY|\n",
      "|  -122.25|   37.85|              52.0|     1627.0|         280.0|     565.0|     259.0|       3.8462|          342200.0|       NEAR BAY|\n",
      "|  -122.25|   37.85|              52.0|      919.0|         213.0|     413.0|     193.0|       4.0368|          269700.0|       NEAR BAY|\n",
      "|  -122.25|   37.84|              52.0|     2535.0|         489.0|    1094.0|     514.0|       3.6591|          299200.0|       NEAR BAY|\n",
      "|  -122.25|   37.84|              52.0|     3104.0|         687.0|    1157.0|     647.0|         3.12|          241400.0|       NEAR BAY|\n",
      "|  -122.26|   37.84|              42.0|     2555.0|         665.0|    1206.0|     595.0|       2.0804|          226700.0|       NEAR BAY|\n",
      "|  -122.25|   37.84|              52.0|     3549.0|         707.0|    1551.0|     714.0|       3.6912|          261100.0|       NEAR BAY|\n",
      "+---------+--------+------------------+-----------+--------------+----------+----------+-------------+------------------+---------------+\n",
      "only showing top 10 rows\n",
      "\n"
     ]
    }
   ],
   "source": [
    "df = spark.read.option('header', 'true').csv('/datasets/housing.csv', inferSchema = True)\n",
    "df.show(10)"
   ]
  },
  {
   "cell_type": "markdown",
   "id": "d35749b6",
   "metadata": {},
   "source": [
    "<font color='blue'><b>Комментарий ревьюера: </b></font> ❌\\\n",
    "<font color='red'><s>При использовании .toPandas() ты выгружаешь данные в оперативную память, что при работе с действительно большими данными приведет к переполнению памяти, этот метод применяется только к агрегированным таблицам (либо к ограниченным подвыборкам). Попробуй реализовать схожий функционал с применением методов pySpark.\n",
    "    </s></font>"
   ]
  },
  {
   "cell_type": "markdown",
   "id": "d53d048e",
   "metadata": {},
   "source": [
    "<font color='blue'><b>Комментарий ревьюера 2: </b></font> ✔️\\\n",
    "<font color='green'> Всё верно!</font>"
   ]
  },
  {
   "cell_type": "code",
   "execution_count": 121,
   "id": "9071b90d",
   "metadata": {
    "scrolled": true
   },
   "outputs": [
    {
     "name": "stdout",
     "output_type": "stream",
     "text": [
      "root\n",
      " |-- longitude: double (nullable = true)\n",
      " |-- latitude: double (nullable = true)\n",
      " |-- housing_median_age: double (nullable = true)\n",
      " |-- total_rooms: double (nullable = true)\n",
      " |-- total_bedrooms: double (nullable = true)\n",
      " |-- population: double (nullable = true)\n",
      " |-- households: double (nullable = true)\n",
      " |-- median_income: double (nullable = true)\n",
      " |-- median_house_value: double (nullable = true)\n",
      " |-- ocean_proximity: string (nullable = true)\n",
      "\n",
      "Empty DataFrame\n",
      "Columns: [column, type]\n",
      "Index: []\n"
     ]
    }
   ],
   "source": [
    "print(pd.DataFrame(df.printSchema(),columns=['column', 'type']))"
   ]
  },
  {
   "cell_type": "markdown",
   "id": "a3268bf4",
   "metadata": {},
   "source": [
    "<font color='blue'><b>Комментарий ревьюера: </b></font> ✔️\\\n",
    "<font color='green'> Отлично!  Выведены типы данных.</font>"
   ]
  },
  {
   "cell_type": "code",
   "execution_count": 122,
   "id": "527e5d63",
   "metadata": {},
   "outputs": [
    {
     "data": {
      "text/html": [
       "<div>\n",
       "<style scoped>\n",
       "    .dataframe tbody tr th:only-of-type {\n",
       "        vertical-align: middle;\n",
       "    }\n",
       "\n",
       "    .dataframe tbody tr th {\n",
       "        vertical-align: top;\n",
       "    }\n",
       "\n",
       "    .dataframe thead th {\n",
       "        text-align: right;\n",
       "    }\n",
       "</style>\n",
       "<table border=\"1\" class=\"dataframe\">\n",
       "  <thead>\n",
       "    <tr style=\"text-align: right;\">\n",
       "      <th></th>\n",
       "      <th>summary</th>\n",
       "      <th>longitude</th>\n",
       "      <th>latitude</th>\n",
       "      <th>housing_median_age</th>\n",
       "      <th>total_rooms</th>\n",
       "      <th>total_bedrooms</th>\n",
       "      <th>population</th>\n",
       "      <th>households</th>\n",
       "      <th>median_income</th>\n",
       "      <th>median_house_value</th>\n",
       "      <th>ocean_proximity</th>\n",
       "    </tr>\n",
       "  </thead>\n",
       "  <tbody>\n",
       "    <tr>\n",
       "      <th>0</th>\n",
       "      <td>count</td>\n",
       "      <td>20640</td>\n",
       "      <td>20640</td>\n",
       "      <td>20640</td>\n",
       "      <td>20640</td>\n",
       "      <td>20433</td>\n",
       "      <td>20640</td>\n",
       "      <td>20640</td>\n",
       "      <td>20640</td>\n",
       "      <td>20640</td>\n",
       "      <td>20640</td>\n",
       "    </tr>\n",
       "    <tr>\n",
       "      <th>1</th>\n",
       "      <td>mean</td>\n",
       "      <td>-119.56970445736148</td>\n",
       "      <td>35.6318614341087</td>\n",
       "      <td>28.639486434108527</td>\n",
       "      <td>2635.7630813953488</td>\n",
       "      <td>537.8705525375618</td>\n",
       "      <td>1425.4767441860465</td>\n",
       "      <td>499.5396802325581</td>\n",
       "      <td>3.8706710029070246</td>\n",
       "      <td>206855.81690891474</td>\n",
       "      <td>None</td>\n",
       "    </tr>\n",
       "    <tr>\n",
       "      <th>2</th>\n",
       "      <td>stddev</td>\n",
       "      <td>2.003531723502584</td>\n",
       "      <td>2.135952397457101</td>\n",
       "      <td>12.58555761211163</td>\n",
       "      <td>2181.6152515827944</td>\n",
       "      <td>421.38507007403115</td>\n",
       "      <td>1132.46212176534</td>\n",
       "      <td>382.3297528316098</td>\n",
       "      <td>1.899821717945263</td>\n",
       "      <td>115395.61587441359</td>\n",
       "      <td>None</td>\n",
       "    </tr>\n",
       "    <tr>\n",
       "      <th>3</th>\n",
       "      <td>min</td>\n",
       "      <td>-124.35</td>\n",
       "      <td>32.54</td>\n",
       "      <td>1.0</td>\n",
       "      <td>2.0</td>\n",
       "      <td>1.0</td>\n",
       "      <td>3.0</td>\n",
       "      <td>1.0</td>\n",
       "      <td>0.4999</td>\n",
       "      <td>14999.0</td>\n",
       "      <td>&lt;1H OCEAN</td>\n",
       "    </tr>\n",
       "    <tr>\n",
       "      <th>4</th>\n",
       "      <td>max</td>\n",
       "      <td>-114.31</td>\n",
       "      <td>41.95</td>\n",
       "      <td>52.0</td>\n",
       "      <td>39320.0</td>\n",
       "      <td>6445.0</td>\n",
       "      <td>35682.0</td>\n",
       "      <td>6082.0</td>\n",
       "      <td>15.0001</td>\n",
       "      <td>500001.0</td>\n",
       "      <td>NEAR OCEAN</td>\n",
       "    </tr>\n",
       "  </tbody>\n",
       "</table>\n",
       "</div>"
      ],
      "text/plain": [
       "  summary            longitude           latitude  housing_median_age  \\\n",
       "0   count                20640              20640               20640   \n",
       "1    mean  -119.56970445736148   35.6318614341087  28.639486434108527   \n",
       "2  stddev    2.003531723502584  2.135952397457101   12.58555761211163   \n",
       "3     min              -124.35              32.54                 1.0   \n",
       "4     max              -114.31              41.95                52.0   \n",
       "\n",
       "          total_rooms      total_bedrooms          population  \\\n",
       "0               20640               20433               20640   \n",
       "1  2635.7630813953488   537.8705525375618  1425.4767441860465   \n",
       "2  2181.6152515827944  421.38507007403115    1132.46212176534   \n",
       "3                 2.0                 1.0                 3.0   \n",
       "4             39320.0              6445.0             35682.0   \n",
       "\n",
       "          households       median_income  median_house_value ocean_proximity  \n",
       "0              20640               20640               20640           20640  \n",
       "1  499.5396802325581  3.8706710029070246  206855.81690891474            None  \n",
       "2  382.3297528316098   1.899821717945263  115395.61587441359            None  \n",
       "3                1.0              0.4999             14999.0       <1H OCEAN  \n",
       "4             6082.0             15.0001            500001.0      NEAR OCEAN  "
      ]
     },
     "execution_count": 122,
     "metadata": {},
     "output_type": "execute_result"
    }
   ],
   "source": [
    "# чистка данных от пропусков\n",
    "df.describe().toPandas()"
   ]
  },
  {
   "cell_type": "code",
   "execution_count": 123,
   "id": "538a4690",
   "metadata": {
    "scrolled": true
   },
   "outputs": [
    {
     "data": {
      "text/html": [
       "<div>\n",
       "<style scoped>\n",
       "    .dataframe tbody tr th:only-of-type {\n",
       "        vertical-align: middle;\n",
       "    }\n",
       "\n",
       "    .dataframe tbody tr th {\n",
       "        vertical-align: top;\n",
       "    }\n",
       "\n",
       "    .dataframe thead th {\n",
       "        text-align: right;\n",
       "    }\n",
       "</style>\n",
       "<table border=\"1\" class=\"dataframe\">\n",
       "  <thead>\n",
       "    <tr style=\"text-align: right;\">\n",
       "      <th></th>\n",
       "      <th>summary</th>\n",
       "      <th>longitude</th>\n",
       "      <th>latitude</th>\n",
       "      <th>housing_median_age</th>\n",
       "      <th>total_rooms</th>\n",
       "      <th>total_bedrooms</th>\n",
       "      <th>population</th>\n",
       "      <th>households</th>\n",
       "      <th>median_income</th>\n",
       "      <th>median_house_value</th>\n",
       "      <th>ocean_proximity</th>\n",
       "    </tr>\n",
       "  </thead>\n",
       "  <tbody>\n",
       "    <tr>\n",
       "      <th>0</th>\n",
       "      <td>count</td>\n",
       "      <td>20640</td>\n",
       "      <td>20640</td>\n",
       "      <td>20640</td>\n",
       "      <td>20640</td>\n",
       "      <td>20640</td>\n",
       "      <td>20640</td>\n",
       "      <td>20640</td>\n",
       "      <td>20640</td>\n",
       "      <td>20640</td>\n",
       "      <td>20640</td>\n",
       "    </tr>\n",
       "    <tr>\n",
       "      <th>1</th>\n",
       "      <td>mean</td>\n",
       "      <td>-119.56970445736148</td>\n",
       "      <td>35.6318614341087</td>\n",
       "      <td>28.639486434108527</td>\n",
       "      <td>2635.7630813953488</td>\n",
       "      <td>537.8164523123438</td>\n",
       "      <td>1425.4767441860465</td>\n",
       "      <td>499.5396802325581</td>\n",
       "      <td>3.8706710029070246</td>\n",
       "      <td>206855.81690891474</td>\n",
       "      <td>None</td>\n",
       "    </tr>\n",
       "    <tr>\n",
       "      <th>2</th>\n",
       "      <td>stddev</td>\n",
       "      <td>2.003531723502584</td>\n",
       "      <td>2.135952397457101</td>\n",
       "      <td>12.58555761211163</td>\n",
       "      <td>2181.6152515827944</td>\n",
       "      <td>419.2669368821015</td>\n",
       "      <td>1132.46212176534</td>\n",
       "      <td>382.3297528316098</td>\n",
       "      <td>1.899821717945263</td>\n",
       "      <td>115395.61587441359</td>\n",
       "      <td>None</td>\n",
       "    </tr>\n",
       "    <tr>\n",
       "      <th>3</th>\n",
       "      <td>min</td>\n",
       "      <td>-124.35</td>\n",
       "      <td>32.54</td>\n",
       "      <td>1.0</td>\n",
       "      <td>2.0</td>\n",
       "      <td>1.0</td>\n",
       "      <td>3.0</td>\n",
       "      <td>1.0</td>\n",
       "      <td>0.4999</td>\n",
       "      <td>14999.0</td>\n",
       "      <td>&lt;1H OCEAN</td>\n",
       "    </tr>\n",
       "    <tr>\n",
       "      <th>4</th>\n",
       "      <td>max</td>\n",
       "      <td>-114.31</td>\n",
       "      <td>41.95</td>\n",
       "      <td>52.0</td>\n",
       "      <td>39320.0</td>\n",
       "      <td>6445.0</td>\n",
       "      <td>35682.0</td>\n",
       "      <td>6082.0</td>\n",
       "      <td>15.0001</td>\n",
       "      <td>500001.0</td>\n",
       "      <td>NEAR OCEAN</td>\n",
       "    </tr>\n",
       "  </tbody>\n",
       "</table>\n",
       "</div>"
      ],
      "text/plain": [
       "  summary            longitude           latitude  housing_median_age  \\\n",
       "0   count                20640              20640               20640   \n",
       "1    mean  -119.56970445736148   35.6318614341087  28.639486434108527   \n",
       "2  stddev    2.003531723502584  2.135952397457101   12.58555761211163   \n",
       "3     min              -124.35              32.54                 1.0   \n",
       "4     max              -114.31              41.95                52.0   \n",
       "\n",
       "          total_rooms     total_bedrooms          population  \\\n",
       "0               20640              20640               20640   \n",
       "1  2635.7630813953488  537.8164523123438  1425.4767441860465   \n",
       "2  2181.6152515827944  419.2669368821015    1132.46212176534   \n",
       "3                 2.0                1.0                 3.0   \n",
       "4             39320.0             6445.0             35682.0   \n",
       "\n",
       "          households       median_income  median_house_value ocean_proximity  \n",
       "0              20640               20640               20640           20640  \n",
       "1  499.5396802325581  3.8706710029070246  206855.81690891474            None  \n",
       "2  382.3297528316098   1.899821717945263  115395.61587441359            None  \n",
       "3                1.0              0.4999             14999.0       <1H OCEAN  \n",
       "4             6082.0             15.0001            500001.0      NEAR OCEAN  "
      ]
     },
     "execution_count": 123,
     "metadata": {},
     "output_type": "execute_result"
    }
   ],
   "source": [
    "df_mean = df.fillna(value=0,subset=['total_bedrooms']).select(F.mean(F.col('total_bedrooms')).alias('avg')).collect()\n",
    "avg = df_mean[0]['avg']\n",
    "df = df.fillna(value=avg,subset=['total_bedrooms']) # замена NA на среднее значение\n",
    "df.describe().toPandas()"
   ]
  },
  {
   "cell_type": "markdown",
   "id": "6d96629e",
   "metadata": {},
   "source": [
    "<font color='blue'><b>Комментарий ревьюера: </b></font> ⚠️\\\n",
    "<font color='darkorange'>Если изменятся данные, то мы по прежнему будем заполнять константой:( Старайся по возможности заполнять программно.</font>"
   ]
  },
  {
   "cell_type": "markdown",
   "id": "1d2ff718",
   "metadata": {},
   "source": [
    "<font color='blue'><b>Комментарий ревьюера 2: </b></font> ✔️\\\n",
    "<font color='green'> Отлично!</font>"
   ]
  },
  {
   "cell_type": "code",
   "execution_count": 124,
   "id": "8d2b8a9a",
   "metadata": {},
   "outputs": [
    {
     "name": "stdout",
     "output_type": "stream",
     "text": [
      "+---------+--------+------------------+-----------+--------------+----------+----------+-------------+------------------+---------------+-------------------+-------------------+\n",
      "|longitude|latitude|housing_median_age|total_rooms|total_bedrooms|population|households|median_income|median_house_value|ocean_proximity|ocean_proximity_idx|ocean_proximity_ohe|\n",
      "+---------+--------+------------------+-----------+--------------+----------+----------+-------------+------------------+---------------+-------------------+-------------------+\n",
      "|  -122.23|   37.88|              41.0|      880.0|         129.0|     322.0|     126.0|       8.3252|          452600.0|       NEAR BAY|                3.0|      (4,[3],[1.0])|\n",
      "|  -122.22|   37.86|              21.0|     7099.0|        1106.0|    2401.0|    1138.0|       8.3014|          358500.0|       NEAR BAY|                3.0|      (4,[3],[1.0])|\n",
      "|  -122.24|   37.85|              52.0|     1467.0|         190.0|     496.0|     177.0|       7.2574|          352100.0|       NEAR BAY|                3.0|      (4,[3],[1.0])|\n",
      "|  -122.25|   37.85|              52.0|     1274.0|         235.0|     558.0|     219.0|       5.6431|          341300.0|       NEAR BAY|                3.0|      (4,[3],[1.0])|\n",
      "|  -122.25|   37.85|              52.0|     1627.0|         280.0|     565.0|     259.0|       3.8462|          342200.0|       NEAR BAY|                3.0|      (4,[3],[1.0])|\n",
      "|  -122.25|   37.85|              52.0|      919.0|         213.0|     413.0|     193.0|       4.0368|          269700.0|       NEAR BAY|                3.0|      (4,[3],[1.0])|\n",
      "|  -122.25|   37.84|              52.0|     2535.0|         489.0|    1094.0|     514.0|       3.6591|          299200.0|       NEAR BAY|                3.0|      (4,[3],[1.0])|\n",
      "|  -122.25|   37.84|              52.0|     3104.0|         687.0|    1157.0|     647.0|         3.12|          241400.0|       NEAR BAY|                3.0|      (4,[3],[1.0])|\n",
      "|  -122.26|   37.84|              42.0|     2555.0|         665.0|    1206.0|     595.0|       2.0804|          226700.0|       NEAR BAY|                3.0|      (4,[3],[1.0])|\n",
      "|  -122.25|   37.84|              52.0|     3549.0|         707.0|    1551.0|     714.0|       3.6912|          261100.0|       NEAR BAY|                3.0|      (4,[3],[1.0])|\n",
      "+---------+--------+------------------+-----------+--------------+----------+----------+-------------+------------------+---------------+-------------------+-------------------+\n",
      "only showing top 10 rows\n",
      "\n"
     ]
    }
   ],
   "source": [
    "# преобразование колонкок с категориальными значениями техникой One hot encoding\n",
    "exclude = ['ocean_proximity',\"median_house_value\"]\n",
    "numerical_cols = [col for col in df.columns if col not in exclude]\n",
    "target = \"median_house_value\" \n",
    "\n",
    "# изначально используем StringIndexer\n",
    "indexer = StringIndexer(inputCol='ocean_proximity', \n",
    "                        outputCol='ocean_proximity'+'_idx') \n",
    "df = indexer.fit(df).transform(df)\n",
    "\n",
    "#cols = [c for c in df.columns for i in categorical_cols if (c.startswith(i))]\n",
    "#df.select(cols).show(3)\n",
    "\n",
    "#теперь уже и сам OHE\n",
    "encoder = OneHotEncoder(inputCol='ocean_proximity'+'_idx',outputCol='ocean_proximity'+'_ohe')\n",
    "df = encoder.fit(df).transform(df)\n",
    "\n",
    "df.show(10)"
   ]
  },
  {
   "cell_type": "markdown",
   "id": "9ddb6a60",
   "metadata": {},
   "source": [
    "<font color='blue'><b>Комментарий ревьюера: </b></font> ✔️ <br>\n",
    "<font color='green'>Верно, что используешь OHE.</font>"
   ]
  },
  {
   "cell_type": "markdown",
   "id": "362fa658",
   "metadata": {},
   "source": [
    "<font color='blue'><b>Комментарий ревьюера 3: </b></font> ⚠️\\\n",
    "<font color='darkorange'> Энкодер тоже лучше обучать только на трейне. При работе моделей будет применятся энкодер обученный на известных предыдущих данных.</font>"
   ]
  },
  {
   "cell_type": "code",
   "execution_count": 125,
   "id": "bbc4dde8",
   "metadata": {},
   "outputs": [],
   "source": [
    "numerical_assembler = VectorAssembler(inputCols=numerical_cols,outputCol=\"numerical_features\")\n",
    "df = numerical_assembler.transform(df)"
   ]
  },
  {
   "cell_type": "code",
   "execution_count": 126,
   "id": "0291ef00",
   "metadata": {},
   "outputs": [
    {
     "name": "stdout",
     "output_type": "stream",
     "text": [
      "16418 4222\n"
     ]
    }
   ],
   "source": [
    "# разделение выборки\n",
    "train_data, test_data = df.randomSplit([.8,.2], seed=RANDOM_SEED)\n",
    "print(train_data.count(), test_data.count())"
   ]
  },
  {
   "cell_type": "code",
   "execution_count": 127,
   "id": "c199de8c",
   "metadata": {},
   "outputs": [],
   "source": [
    "standardScaler = StandardScaler(inputCol='numerical_features',outputCol=\"numerical_features_scaled\")\n",
    "scaler = standardScaler.fit(train_data)"
   ]
  },
  {
   "cell_type": "code",
   "execution_count": 128,
   "id": "e7a0ba63",
   "metadata": {},
   "outputs": [],
   "source": [
    "train_data = scaler.transform(train_data)\n",
    "test_data = scaler.transform(test_data)"
   ]
  },
  {
   "cell_type": "code",
   "execution_count": 129,
   "id": "eae54c8d",
   "metadata": {},
   "outputs": [
    {
     "name": "stdout",
     "output_type": "stream",
     "text": [
      "['longitude', 'latitude', 'housing_median_age', 'total_rooms', 'total_bedrooms', 'population', 'households', 'median_income', 'median_house_value', 'ocean_proximity', 'ocean_proximity_idx', 'ocean_proximity_ohe', 'numerical_features', 'numerical_features_scaled']\n"
     ]
    }
   ],
   "source": [
    "print(train_data.columns)"
   ]
  },
  {
   "cell_type": "code",
   "execution_count": 130,
   "id": "444325b0",
   "metadata": {},
   "outputs": [
    {
     "name": "stdout",
     "output_type": "stream",
     "text": [
      "+-------------------+-------------------------+\n",
      "|ocean_proximity_ohe|numerical_features_scaled|\n",
      "+-------------------+-------------------------+\n",
      "|      (4,[2],[1.0])|     [-61.952887791441...|\n",
      "|      (4,[2],[1.0])|     [-61.927977100733...|\n",
      "|      (4,[2],[1.0])|     [-61.913030686308...|\n",
      "+-------------------+-------------------------+\n",
      "only showing top 3 rows\n",
      "\n"
     ]
    }
   ],
   "source": [
    "all_features = ['ocean_proximity_ohe','numerical_features_scaled']\n",
    "\n",
    "final_assembler = VectorAssembler(inputCols=all_features,\n",
    "                                  outputCol=\"features\")\n",
    "train_data = final_assembler.transform(train_data)\n",
    "test_data = final_assembler.transform(test_data)\n",
    "\n",
    "train_data.select(all_features).show(3)"
   ]
  },
  {
   "cell_type": "code",
   "execution_count": 131,
   "id": "c5ed15f6",
   "metadata": {},
   "outputs": [
    {
     "name": "stdout",
     "output_type": "stream",
     "text": [
      "['longitude', 'latitude', 'housing_median_age', 'total_rooms', 'total_bedrooms', 'population', 'households', 'median_income', 'median_house_value', 'ocean_proximity', 'ocean_proximity_idx', 'ocean_proximity_ohe', 'numerical_features', 'numerical_features_scaled', 'features']\n"
     ]
    }
   ],
   "source": [
    "print(test_data.columns)"
   ]
  },
  {
   "cell_type": "markdown",
   "id": "05cc77a0",
   "metadata": {},
   "source": [
    "<font color='blue'><b>Комментарий ревьюера: </b></font> ❌\\\n",
    "<font color='red'><s> Стандартизацию и Кодирование нужно проводить после разделения на выборки.</s></font>"
   ]
  },
  {
   "cell_type": "markdown",
   "id": "79dd327b",
   "metadata": {},
   "source": [
    "<font color='purple'><b>Комментарий студента</b></font>\n",
    "https://practicum.yandex.ru/learn/data-scientist-plus/courses/985f2976-7f2d-444d-a9e9-ef7fc6a4ff86/sprints/14266/topics/fe73fc6e-8711-4730-8f6b-623fc66822e5/lessons/520bf567-b6cb-46b5-96e2-058e0ac966da/ Согласно лекционного материала Стандартизация и Кодирование происходит до разделения на train и test."
   ]
  },
  {
   "cell_type": "markdown",
   "id": "8f3e5142",
   "metadata": {},
   "source": [
    "<font color='blue'><b>Комментарий ревьюера 2: </b></font> \\\n",
    "<font color='blue'>Ошибка в обучающих материалах. Если применить кодировку и стандартизацию ко всей выборке, происходит утечка о тестовой части данных в обучающую. Скорее всего, стандартизация и кодировка уже встречались в предыдущих проектах и об этой особенности так же был теоритический материал.\\\n",
    "В Spark, тоже есть конвеер Pipeline. С его помощью можно эту проблему устранить.\\\n",
    "Я написал запрос в контент команду ЯндексПрактикума об этой ошибке.\\\n",
    "Спасибо, что отметил.</font>"
   ]
  },
  {
   "cell_type": "markdown",
   "id": "94b407b8",
   "metadata": {},
   "source": [
    "<font color='blue'><b>Комментарий ревьюера 3: </b></font> ✔️\\\n",
    "<font color='green'>Супер! Скалер обучен на обучающих данных!</font>"
   ]
  },
  {
   "cell_type": "markdown",
   "id": "9f0a82f3",
   "metadata": {
    "id": "9f0a82f3"
   },
   "source": [
    "# Обучение моделей"
   ]
  },
  {
   "cell_type": "code",
   "execution_count": 133,
   "id": "89585616",
   "metadata": {},
   "outputs": [
    {
     "name": "stderr",
     "output_type": "stream",
     "text": [
      "22/10/17 19:12:51 WARN Instrumentation: [b7aadc6b] regParam is zero, which might cause numerical instability and overfitting.\n",
      "22/10/17 19:12:51 WARN BLAS: Failed to load implementation from: com.github.fommil.netlib.NativeSystemBLAS\n",
      "22/10/17 19:12:51 WARN BLAS: Failed to load implementation from: com.github.fommil.netlib.NativeRefBLAS\n",
      "22/10/17 19:12:51 WARN LAPACK: Failed to load implementation from: com.github.fommil.netlib.NativeSystemLAPACK\n",
      "22/10/17 19:12:51 WARN LAPACK: Failed to load implementation from: com.github.fommil.netlib.NativeRefLAPACK\n",
      "22/10/17 19:12:51 WARN Instrumentation: [b7aadc6b] Cholesky solver failed due to singular covariance matrix. Retrying with Quasi-Newton solver.\n",
      "                                                                                \r"
     ]
    }
   ],
   "source": [
    "#обучение со всеми данными\n",
    "lr = LinearRegression(labelCol=target, featuresCol='features')\n",
    "\n",
    "model = lr.fit(train_data)"
   ]
  },
  {
   "cell_type": "code",
   "execution_count": 134,
   "id": "3bc476b2",
   "metadata": {},
   "outputs": [
    {
     "name": "stderr",
     "output_type": "stream",
     "text": [
      "22/10/17 19:12:57 WARN Instrumentation: [00fb8c84] regParam is zero, which might cause numerical instability and overfitting.\n"
     ]
    }
   ],
   "source": [
    "#обучение с количественными данными\n",
    "lr2 = LinearRegression(labelCol=target, featuresCol='numerical_features')\n",
    "\n",
    "model2 = lr2.fit(train_data)"
   ]
  },
  {
   "cell_type": "markdown",
   "id": "87644977",
   "metadata": {},
   "source": [
    "<font color='blue'><b>Комментарий ревьюера: </b></font> ✔️\\\n",
    "<font color='green'>Верно, обучены две модели с категориальным признаком и без.</font>"
   ]
  },
  {
   "cell_type": "markdown",
   "id": "757fd103",
   "metadata": {
    "id": "757fd103"
   },
   "source": [
    "# Анализ результатов"
   ]
  },
  {
   "cell_type": "code",
   "execution_count": 135,
   "id": "eb511076",
   "metadata": {},
   "outputs": [
    {
     "name": "stdout",
     "output_type": "stream",
     "text": [
      "+------------------+------------------+\n",
      "|median_house_value|        prediction|\n",
      "+------------------+------------------+\n",
      "|          103600.0|152871.37074076058|\n",
      "|           50800.0|214880.87368393922|\n",
      "|           58100.0|142623.26661453675|\n",
      "|           68400.0|132355.00961040286|\n",
      "|           72200.0| 163944.3725004634|\n",
      "|           67000.0|154339.77777568484|\n",
      "|           81300.0|152713.30468632653|\n",
      "|           70500.0| 164411.1542104492|\n",
      "|           60000.0|142665.50904478086|\n",
      "|          109400.0|171165.97153167473|\n",
      "|           74100.0|150527.01439053146|\n",
      "|           74700.0|167731.97804803262|\n",
      "|           90000.0|209696.85186513187|\n",
      "|          104200.0|200353.50041028718|\n",
      "|           74100.0| 157003.2677775384|\n",
      "|           67500.0|148170.52536961343|\n",
      "|          103100.0|47320.383557249326|\n",
      "|           92500.0|  166603.000242671|\n",
      "|          128100.0|221965.17673258623|\n",
      "|           99600.0|187134.27064319467|\n",
      "+------------------+------------------+\n",
      "only showing top 20 rows\n",
      "\n"
     ]
    }
   ],
   "source": [
    "predictions = model.transform(test_data)\n",
    "\n",
    "predictedLabes = predictions.select(\"median_house_value\", \"prediction\")\n",
    "predictedLabes.show() "
   ]
  },
  {
   "cell_type": "code",
   "execution_count": 136,
   "id": "c19b4551",
   "metadata": {},
   "outputs": [
    {
     "name": "stdout",
     "output_type": "stream",
     "text": [
      "+------------------+------------------+\n",
      "|median_house_value|        prediction|\n",
      "+------------------+------------------+\n",
      "|          103600.0|101364.50812742068|\n",
      "|           50800.0|183297.65642193705|\n",
      "|           58100.0|109578.60838986281|\n",
      "|           68400.0| 80391.59191420209|\n",
      "|           72200.0|129877.01967613352|\n",
      "|           67000.0|120404.20931970468|\n",
      "|           81300.0|117992.55539450096|\n",
      "|           70500.0|130612.12188887084|\n",
      "|           60000.0|110062.61268041749|\n",
      "|          109400.0| 118172.5754064233|\n",
      "|           74100.0|117718.26869017631|\n",
      "|           74700.0| 134357.9856721419|\n",
      "|           90000.0| 175915.9903214057|\n",
      "|          104200.0|  166488.883189396|\n",
      "|           74100.0|122930.95757309394|\n",
      "|           67500.0|113698.24431570992|\n",
      "|          103100.0|-8421.805367283523|\n",
      "|           92500.0|140800.16343181813|\n",
      "|          128100.0|191174.88680318417|\n",
      "|           99600.0|152620.17806110252|\n",
      "+------------------+------------------+\n",
      "only showing top 20 rows\n",
      "\n"
     ]
    }
   ],
   "source": [
    "predictions2 = model2.transform(test_data)\n",
    "\n",
    "predictedLabes2 = predictions2.select(\"median_house_value\", \"prediction\")\n",
    "predictedLabes2.show()"
   ]
  },
  {
   "cell_type": "code",
   "execution_count": 137,
   "id": "2e3b5d93",
   "metadata": {},
   "outputs": [
    {
     "name": "stdout",
     "output_type": "stream",
     "text": [
      "RMSE: 68837.809284\n",
      "MAE: 49825.431440\n",
      "r2: 0.642521\n"
     ]
    }
   ],
   "source": [
    "trainingSummary = model.summary\n",
    "print(\"RMSE: %f\" % trainingSummary.rootMeanSquaredError)\n",
    "print(\"MAE: %f\" % trainingSummary.meanAbsoluteError)\n",
    "print(\"r2: %f\" % trainingSummary.r2)"
   ]
  },
  {
   "cell_type": "code",
   "execution_count": 138,
   "id": "f63a29ea",
   "metadata": {},
   "outputs": [
    {
     "name": "stdout",
     "output_type": "stream",
     "text": [
      "RMSE: 69775.720202\n",
      "MAE: 50930.726802\n",
      "r2: 0.632714\n"
     ]
    }
   ],
   "source": [
    "trainingSummary2 = model2.summary\n",
    "print(\"RMSE: %f\" % trainingSummary2.rootMeanSquaredError)\n",
    "print(\"MAE: %f\" % trainingSummary2.meanAbsoluteError)\n",
    "print(\"r2: %f\" % trainingSummary2.r2)"
   ]
  },
  {
   "cell_type": "markdown",
   "id": "2dd07a47",
   "metadata": {},
   "source": [
    "<font color='blue'><b>Комментарий ревьюера: </b></font> ✔️\\\n",
    "<font color='green'>Тестирование проведено верно.</font>"
   ]
  },
  {
   "cell_type": "code",
   "execution_count": 139,
   "id": "589833df",
   "metadata": {},
   "outputs": [],
   "source": [
    "spark.stop()"
   ]
  },
  {
   "cell_type": "markdown",
   "id": "98ea9f8d",
   "metadata": {},
   "source": [
    "<font color='blue'><b>Комментарий ревьюера: </b></font> ⚠️\\\n",
    "<font color='darkorange'>Не забывай останавливать сессию `spark.stop()`</font>"
   ]
  },
  {
   "cell_type": "markdown",
   "id": "5cc9085c",
   "metadata": {},
   "source": [
    "<font color='blue'><b>Комментарий ревьюера 2: </b></font> ✔️\\\n",
    "<font color='green'>👍</font>"
   ]
  },
  {
   "cell_type": "markdown",
   "id": "b8039762",
   "metadata": {},
   "source": [
    "# Общий вывод"
   ]
  },
  {
   "cell_type": "markdown",
   "id": "376cccc1",
   "metadata": {},
   "source": [
    "Задача - предсказать медианную стоимость дома на основании данных о жилье в Калифорнии в 1990 году. После запуска Spark сессии были просмотрены типы данных в разных колонках, и сама таблица в целом. Далее, пустые значения NA были заменены на среднее значение в колонке total_bedrooms. Далее единственный категориальный признак был стандартизирован и кодирован с помощью StringIndexer и OHE. Также были стандартизированы количественные признаки, и объединены с категориальным значением. Далее данные были разделены на обучающую и тестовую выборки, и была применена линейная регрессия на выборках с категориальным признаком и без. В результате лучше отработала модель линейной регрессии на выборке с категориальным признаком в составе. Однако, различия в RMSE и MAE минимальны - около $1. А R2 даже выше чем в выборке с количественными признаками на 0.01. В целом по моему мнению такая ошибка в предсказании недопустима, и нужно найти более подходящую модель с меньшим показателем погрешности RMSE и MAE."
   ]
  },
  {
   "cell_type": "markdown",
   "id": "4afaa5e4",
   "metadata": {},
   "source": [
    "<font color='blue'><b>Комментарий ревьюера: </b></font> ❌\\\n",
    "<font color='red'><s> Очень не хватает общего вывода. В выводах можно приводить полученные ранее значения. Также можно расписать все, что было сделано в ходе проведения работы.</s></font>"
   ]
  },
  {
   "cell_type": "markdown",
   "id": "0388f5c5",
   "metadata": {},
   "source": [
    "<font color='blue'><b>Комментарий ревьюера 2: </b></font> ✔️\\\n",
    "<font color='green'> Очень приятно видеть вывод в конце проекта!\\\n",
    "Приведены ответы на главные вопросы проекта.</font>"
   ]
  },
  {
   "cell_type": "markdown",
   "id": "4492ab4a",
   "metadata": {},
   "source": [
    "<font color='blue'><b>Итоговый комментарий ревьюера</b></font>\\\n",
    "<font color='green'>Нурлан, хороший проект получился!\n",
    "Большое спасибо за проделанную работу. Видно, что приложено много усилий.\n",
    "</font>\n",
    "\n",
    "<font color='blue'>Что нужно исправить:</font>\n",
    "<ul><font color='red'>Поправь работу с данными(toPandas только для агрегированных данных).</font></ul>\n",
    "<ul><font color='red'>Стандартизация и КОдировка для train и test по отдельности скалером обученным на train.</font></ul>\n",
    "<ul><font color='red'>Добавь Общий вывод и Анализ метрик.</font></ul>\n",
    "\n",
    "<font color='blue'>Что можно сделать лучше:</font>\n",
    "<font color='orange'>В работе я оставил несколько советов. Буду рад, если ты учтешь их.</font></ul>\n",
    "\n",
    "<font color='blue'><b>Жду новую версию проекта :)</b></font>"
   ]
  },
  {
   "cell_type": "markdown",
   "id": "5aedffec",
   "metadata": {},
   "source": [
    "<font color='blue'><b>Итоговый комментарий ревьюера 2</b></font>\\\n",
    "<font color='green'>Нурлан, большое спасибо за доработку. В Пандас выгружаются только агрегированные данные, написан Общий вывод по работе.\n",
    "</font>\n",
    "\n",
    "<font color='blue'>Что нужно исправить:</font>\n",
    "<ul><font color='red'>Стандартизация и Кодировка для train и test по отдельности скалером обученным на train.</font></ul>\n",
    "\n",
    "<font color='blue'><b>Жду новую версию проекта :)</b></font>"
   ]
  },
  {
   "cell_type": "markdown",
   "id": "faaa4197",
   "metadata": {},
   "source": [
    "<font color='purple'><b>Комментарий студента 2</b></font> Скалер ни на капельку не улучшил модель :("
   ]
  },
  {
   "cell_type": "markdown",
   "id": "f48f9819",
   "metadata": {},
   "source": [
    "<font color='blue'><b>Комментарий ревьюера 3: </b></font> ✔️\\\n",
    "<font color='green'>Здесь вопрос был не в улучшении метрик, а в корректности проведённого теста. Сейчас мы устранили возможную утечку информации из трейна в тест, улучшить метрики это никак не могло, но теперь мы можем этим метрикам доверять ))).</font>"
   ]
  },
  {
   "cell_type": "markdown",
   "id": "b5799647",
   "metadata": {},
   "source": [
    "<font color='blue'><b>Итоговый комментарий ревьюера 3</b></font>\\\n",
    "<font color='green'> Нурлан, проект принят! \\\n",
    "Все этапы пройдены. Все критичные рекомендации учтены.\\\n",
    "Надеюсь, тебе понравился процесс выполнения и результат.</font> \\\n",
    "<font color='blue'><b>Спасибо, удачи в освоении профессии!</b></font>"
   ]
  }
 ],
 "metadata": {
  "ExecuteTimeLog": [
   {
    "duration": 15062,
    "start_time": "2022-10-15T19:01:54.871Z"
   },
   {
    "duration": 80,
    "start_time": "2022-10-15T19:03:19.117Z"
   },
   {
    "duration": 12,
    "start_time": "2022-10-15T19:07:14.776Z"
   },
   {
    "duration": 8838,
    "start_time": "2022-10-15T19:08:12.689Z"
   },
   {
    "duration": 37,
    "start_time": "2022-10-15T19:10:38.217Z"
   },
   {
    "duration": 7,
    "start_time": "2022-10-15T19:10:44.497Z"
   },
   {
    "duration": 5357,
    "start_time": "2022-10-15T19:12:11.985Z"
   },
   {
    "duration": 14,
    "start_time": "2022-10-15T19:12:35.851Z"
   },
   {
    "duration": 14,
    "start_time": "2022-10-15T19:12:56.738Z"
   },
   {
    "duration": 13,
    "start_time": "2022-10-15T19:13:06.482Z"
   },
   {
    "duration": 2785,
    "start_time": "2022-10-15T19:16:50.260Z"
   },
   {
    "duration": 9,
    "start_time": "2022-10-15T19:17:18.132Z"
   },
   {
    "duration": 1405,
    "start_time": "2022-10-15T19:17:35.844Z"
   },
   {
    "duration": 1659,
    "start_time": "2022-10-15T19:24:23.094Z"
   },
   {
    "duration": 990,
    "start_time": "2022-10-15T19:24:32.617Z"
   },
   {
    "duration": 5,
    "start_time": "2022-10-15T19:24:34.366Z"
   },
   {
    "duration": 1090,
    "start_time": "2022-10-15T19:24:35.061Z"
   },
   {
    "duration": 1102,
    "start_time": "2022-10-15T19:24:36.153Z"
   },
   {
    "duration": 12,
    "start_time": "2022-10-15T19:29:54.327Z"
   },
   {
    "duration": 114,
    "start_time": "2022-10-15T19:31:11.599Z"
   },
   {
    "duration": 74,
    "start_time": "2022-10-15T19:36:18.537Z"
   },
   {
    "duration": 83,
    "start_time": "2022-10-15T19:39:08.620Z"
   },
   {
    "duration": 12,
    "start_time": "2022-10-15T19:41:11.980Z"
   },
   {
    "duration": 5,
    "start_time": "2022-10-15T19:41:58.308Z"
   },
   {
    "duration": 24,
    "start_time": "2022-10-15T19:42:02.045Z"
   },
   {
    "duration": 19,
    "start_time": "2022-10-15T19:42:25.045Z"
   },
   {
    "duration": 2071,
    "start_time": "2022-10-15T19:43:28.460Z"
   },
   {
    "duration": 74,
    "start_time": "2022-10-15T19:43:53.388Z"
   },
   {
    "duration": 4,
    "start_time": "2022-10-15T19:44:03.268Z"
   },
   {
    "duration": 817,
    "start_time": "2022-10-15T19:44:03.949Z"
   },
   {
    "duration": 5,
    "start_time": "2022-10-15T19:44:04.768Z"
   },
   {
    "duration": 863,
    "start_time": "2022-10-15T19:44:04.775Z"
   },
   {
    "duration": 999,
    "start_time": "2022-10-15T19:44:05.640Z"
   },
   {
    "duration": 2026,
    "start_time": "2022-10-15T19:44:06.641Z"
   },
   {
    "duration": 1620,
    "start_time": "2022-10-15T19:46:44.902Z"
   },
   {
    "duration": 7,
    "start_time": "2022-10-15T19:48:21.141Z"
   },
   {
    "duration": 112,
    "start_time": "2022-10-15T19:48:35.526Z"
   },
   {
    "duration": 20,
    "start_time": "2022-10-15T19:48:48.718Z"
   },
   {
    "duration": 91,
    "start_time": "2022-10-15T19:52:04.656Z"
   },
   {
    "duration": 17,
    "start_time": "2022-10-15T19:52:20.678Z"
   },
   {
    "duration": 8,
    "start_time": "2022-10-15T19:54:08.641Z"
   },
   {
    "duration": 15,
    "start_time": "2022-10-15T19:54:18.674Z"
   },
   {
    "duration": 8,
    "start_time": "2022-10-15T19:55:23.481Z"
   },
   {
    "duration": 15,
    "start_time": "2022-10-15T19:56:29.762Z"
   },
   {
    "duration": 8,
    "start_time": "2022-10-15T19:58:16.283Z"
   },
   {
    "duration": 9,
    "start_time": "2022-10-15T19:58:47.081Z"
   },
   {
    "duration": 80,
    "start_time": "2022-10-15T19:59:09.522Z"
   },
   {
    "duration": 6,
    "start_time": "2022-10-15T19:59:19.761Z"
   },
   {
    "duration": 773,
    "start_time": "2022-10-15T19:59:20.120Z"
   },
   {
    "duration": 7,
    "start_time": "2022-10-15T19:59:20.922Z"
   },
   {
    "duration": 710,
    "start_time": "2022-10-15T19:59:20.930Z"
   },
   {
    "duration": 907,
    "start_time": "2022-10-15T19:59:21.642Z"
   },
   {
    "duration": 1755,
    "start_time": "2022-10-15T19:59:26.553Z"
   },
   {
    "duration": 16,
    "start_time": "2022-10-15T20:00:42.377Z"
   },
   {
    "duration": 45,
    "start_time": "2022-10-15T20:01:37.643Z"
   },
   {
    "duration": 16,
    "start_time": "2022-10-15T20:01:47.987Z"
   },
   {
    "duration": 16,
    "start_time": "2022-10-15T20:05:21.332Z"
   },
   {
    "duration": 4,
    "start_time": "2022-10-15T20:06:56.388Z"
   },
   {
    "duration": 5,
    "start_time": "2022-10-15T20:08:53.653Z"
   },
   {
    "duration": 735,
    "start_time": "2022-10-15T20:08:54.005Z"
   },
   {
    "duration": 7,
    "start_time": "2022-10-15T20:08:54.742Z"
   },
   {
    "duration": 649,
    "start_time": "2022-10-15T20:08:54.990Z"
   },
   {
    "duration": 656,
    "start_time": "2022-10-15T20:08:55.981Z"
   },
   {
    "duration": 1497,
    "start_time": "2022-10-15T20:08:57.645Z"
   },
   {
    "duration": 4,
    "start_time": "2022-10-15T20:09:02.965Z"
   },
   {
    "duration": 46,
    "start_time": "2022-10-15T20:09:13.221Z"
   },
   {
    "duration": 16,
    "start_time": "2022-10-15T20:09:37.381Z"
   },
   {
    "duration": 16,
    "start_time": "2022-10-15T20:09:50.774Z"
   },
   {
    "duration": 16,
    "start_time": "2022-10-15T20:10:16.990Z"
   },
   {
    "duration": 7,
    "start_time": "2022-10-15T20:12:22.232Z"
   },
   {
    "duration": 4,
    "start_time": "2022-10-15T20:12:56.158Z"
   },
   {
    "duration": 275,
    "start_time": "2022-10-15T20:13:02.989Z"
   },
   {
    "duration": 8,
    "start_time": "2022-10-15T20:13:45.286Z"
   },
   {
    "duration": 71,
    "start_time": "2022-10-15T20:13:56.015Z"
   },
   {
    "duration": 5,
    "start_time": "2022-10-15T20:14:22.614Z"
   },
   {
    "duration": 2,
    "start_time": "2022-10-15T20:16:32.844Z"
   },
   {
    "duration": 1970,
    "start_time": "2022-10-15T20:16:34.681Z"
   },
   {
    "duration": 3976,
    "start_time": "2022-10-15T20:16:36.654Z"
   },
   {
    "duration": 2178,
    "start_time": "2022-10-15T20:18:35.657Z"
   },
   {
    "duration": 626,
    "start_time": "2022-10-15T20:19:45.737Z"
   },
   {
    "duration": 545,
    "start_time": "2022-10-15T20:20:12.817Z"
   },
   {
    "duration": 7,
    "start_time": "2022-10-15T20:25:35.082Z"
   },
   {
    "duration": 5,
    "start_time": "2022-10-15T20:44:11.577Z"
   },
   {
    "duration": 719,
    "start_time": "2022-10-16T11:25:12.852Z"
   },
   {
    "duration": 17736,
    "start_time": "2022-10-16T11:25:13.968Z"
   },
   {
    "duration": 9470,
    "start_time": "2022-10-16T11:25:44.039Z"
   },
   {
    "duration": 28,
    "start_time": "2022-10-16T11:26:03.816Z"
   },
   {
    "duration": 4813,
    "start_time": "2022-10-16T11:26:04.928Z"
   },
   {
    "duration": 115,
    "start_time": "2022-10-16T13:12:20.748Z"
   },
   {
    "duration": 3088,
    "start_time": "2022-10-16T13:25:26.314Z"
   },
   {
    "duration": 383,
    "start_time": "2022-10-16T13:46:39.562Z"
   },
   {
    "duration": 6,
    "start_time": "2022-10-16T13:46:56.207Z"
   },
   {
    "duration": 668,
    "start_time": "2022-10-16T17:13:57.587Z"
   },
   {
    "duration": 14309,
    "start_time": "2022-10-16T17:13:58.256Z"
   },
   {
    "duration": 8614,
    "start_time": "2022-10-16T17:14:12.621Z"
   },
   {
    "duration": 18,
    "start_time": "2022-10-16T17:14:21.236Z"
   },
   {
    "duration": 3703,
    "start_time": "2022-10-16T17:14:21.255Z"
   },
   {
    "duration": 2564,
    "start_time": "2022-10-16T17:14:24.959Z"
   },
   {
    "duration": 67,
    "start_time": "2022-10-16T17:14:27.525Z"
   },
   {
    "duration": 135,
    "start_time": "2022-10-16T17:14:31.500Z"
   },
   {
    "duration": 3,
    "start_time": "2022-10-16T17:15:31.506Z"
   },
   {
    "duration": 1762,
    "start_time": "2022-10-16T17:17:22.866Z"
   },
   {
    "duration": 793,
    "start_time": "2022-10-17T18:48:19.086Z"
   },
   {
    "duration": 15334,
    "start_time": "2022-10-17T18:48:19.882Z"
   },
   {
    "duration": 9494,
    "start_time": "2022-10-17T18:48:35.218Z"
   },
   {
    "duration": 84,
    "start_time": "2022-10-17T18:48:44.713Z"
   },
   {
    "duration": 4021,
    "start_time": "2022-10-17T18:48:44.799Z"
   },
   {
    "duration": 3009,
    "start_time": "2022-10-17T18:48:48.821Z"
   },
   {
    "duration": 1879,
    "start_time": "2022-10-17T18:48:51.832Z"
   },
   {
    "duration": 0,
    "start_time": "2022-10-17T18:48:53.713Z"
   },
   {
    "duration": 118,
    "start_time": "2022-10-17T18:50:32.214Z"
   },
   {
    "duration": 787,
    "start_time": "2022-10-17T18:51:19.115Z"
   },
   {
    "duration": 9,
    "start_time": "2022-10-17T18:51:19.905Z"
   },
   {
    "duration": 1287,
    "start_time": "2022-10-17T18:51:20.445Z"
   },
   {
    "duration": 1968,
    "start_time": "2022-10-17T18:51:21.734Z"
   },
   {
    "duration": 2637,
    "start_time": "2022-10-17T18:51:24.124Z"
   },
   {
    "duration": 768,
    "start_time": "2022-10-17T18:51:46.465Z"
   },
   {
    "duration": 8,
    "start_time": "2022-10-17T18:51:47.235Z"
   },
   {
    "duration": 1143,
    "start_time": "2022-10-17T18:51:47.583Z"
   },
   {
    "duration": 1603,
    "start_time": "2022-10-17T18:51:48.797Z"
   },
   {
    "duration": 2647,
    "start_time": "2022-10-17T18:51:50.403Z"
   },
   {
    "duration": 643,
    "start_time": "2022-10-17T18:51:57.663Z"
   },
   {
    "duration": 8,
    "start_time": "2022-10-17T18:51:58.308Z"
   },
   {
    "duration": 832,
    "start_time": "2022-10-17T18:51:59.966Z"
   },
   {
    "duration": 1078,
    "start_time": "2022-10-17T18:52:00.853Z"
   },
   {
    "duration": 831,
    "start_time": "2022-10-17T18:52:08.866Z"
   },
   {
    "duration": 1629,
    "start_time": "2022-10-17T18:52:20.484Z"
   },
   {
    "duration": 46,
    "start_time": "2022-10-17T18:53:17.501Z"
   },
   {
    "duration": 1799,
    "start_time": "2022-10-17T18:53:19.698Z"
   },
   {
    "duration": 4,
    "start_time": "2022-10-17T18:54:27.527Z"
   },
   {
    "duration": 885,
    "start_time": "2022-10-17T18:56:52.138Z"
   },
   {
    "duration": 120,
    "start_time": "2022-10-17T18:57:46.602Z"
   },
   {
    "duration": 572,
    "start_time": "2022-10-17T18:57:58.169Z"
   },
   {
    "duration": 58,
    "start_time": "2022-10-17T18:57:58.743Z"
   },
   {
    "duration": 882,
    "start_time": "2022-10-17T18:57:59.122Z"
   },
   {
    "duration": 1139,
    "start_time": "2022-10-17T18:58:00.007Z"
   },
   {
    "duration": 581,
    "start_time": "2022-10-17T18:58:01.456Z"
   },
   {
    "duration": 19,
    "start_time": "2022-10-17T18:58:02.990Z"
   },
   {
    "duration": 765,
    "start_time": "2022-10-17T18:58:04.244Z"
   },
   {
    "duration": 517,
    "start_time": "2022-10-17T18:58:05.220Z"
   },
   {
    "duration": 103,
    "start_time": "2022-10-17T18:58:23.280Z"
   },
   {
    "duration": 656,
    "start_time": "2022-10-17T18:58:32.245Z"
   },
   {
    "duration": 7,
    "start_time": "2022-10-17T18:58:32.904Z"
   },
   {
    "duration": 708,
    "start_time": "2022-10-17T18:58:33.096Z"
   },
   {
    "duration": 1106,
    "start_time": "2022-10-17T18:58:33.806Z"
   },
   {
    "duration": 496,
    "start_time": "2022-10-17T18:58:34.914Z"
   },
   {
    "duration": 18,
    "start_time": "2022-10-17T18:58:36.856Z"
   },
   {
    "duration": 728,
    "start_time": "2022-10-17T18:58:37.776Z"
   },
   {
    "duration": 514,
    "start_time": "2022-10-17T18:58:38.506Z"
   },
   {
    "duration": 516,
    "start_time": "2022-10-17T19:01:00.598Z"
   },
   {
    "duration": 105,
    "start_time": "2022-10-17T19:01:20.385Z"
   },
   {
    "duration": 5,
    "start_time": "2022-10-17T19:01:27.043Z"
   },
   {
    "duration": 5,
    "start_time": "2022-10-17T19:01:27.232Z"
   },
   {
    "duration": 415,
    "start_time": "2022-10-17T19:01:27.983Z"
   },
   {
    "duration": 6,
    "start_time": "2022-10-17T19:01:28.544Z"
   },
   {
    "duration": 689,
    "start_time": "2022-10-17T19:01:28.929Z"
   },
   {
    "duration": 874,
    "start_time": "2022-10-17T19:01:29.866Z"
   },
   {
    "duration": 408,
    "start_time": "2022-10-17T19:01:33.342Z"
   },
   {
    "duration": 29,
    "start_time": "2022-10-17T19:01:35.287Z"
   },
   {
    "duration": 1086,
    "start_time": "2022-10-17T19:01:35.711Z"
   },
   {
    "duration": 513,
    "start_time": "2022-10-17T19:01:36.800Z"
   },
   {
    "duration": 106,
    "start_time": "2022-10-17T19:03:03.880Z"
   },
   {
    "duration": 357,
    "start_time": "2022-10-17T19:03:12.784Z"
   },
   {
    "duration": 10,
    "start_time": "2022-10-17T19:03:13.306Z"
   },
   {
    "duration": 684,
    "start_time": "2022-10-17T19:03:13.640Z"
   },
   {
    "duration": 800,
    "start_time": "2022-10-17T19:03:14.326Z"
   },
   {
    "duration": 575,
    "start_time": "2022-10-17T19:03:15.128Z"
   },
   {
    "duration": 22,
    "start_time": "2022-10-17T19:03:16.006Z"
   },
   {
    "duration": 748,
    "start_time": "2022-10-17T19:03:17.151Z"
   },
   {
    "duration": 517,
    "start_time": "2022-10-17T19:03:19.583Z"
   },
   {
    "duration": 154,
    "start_time": "2022-10-17T19:03:35.908Z"
   },
   {
    "duration": 11,
    "start_time": "2022-10-17T19:03:45.033Z"
   },
   {
    "duration": 4,
    "start_time": "2022-10-17T19:03:45.216Z"
   },
   {
    "duration": 609,
    "start_time": "2022-10-17T19:03:45.895Z"
   },
   {
    "duration": 8,
    "start_time": "2022-10-17T19:03:46.507Z"
   },
   {
    "duration": 712,
    "start_time": "2022-10-17T19:03:46.713Z"
   },
   {
    "duration": 995,
    "start_time": "2022-10-17T19:03:47.427Z"
   },
   {
    "duration": 513,
    "start_time": "2022-10-17T19:03:48.816Z"
   },
   {
    "duration": 26,
    "start_time": "2022-10-17T19:03:49.455Z"
   },
   {
    "duration": 789,
    "start_time": "2022-10-17T19:03:49.640Z"
   },
   {
    "duration": 401,
    "start_time": "2022-10-17T19:03:50.431Z"
   },
   {
    "duration": 114,
    "start_time": "2022-10-17T19:04:03.944Z"
   },
   {
    "duration": 385,
    "start_time": "2022-10-17T19:04:15.025Z"
   },
   {
    "duration": 7,
    "start_time": "2022-10-17T19:04:15.521Z"
   },
   {
    "duration": 566,
    "start_time": "2022-10-17T19:04:15.842Z"
   },
   {
    "duration": 824,
    "start_time": "2022-10-17T19:04:16.410Z"
   },
   {
    "duration": 421,
    "start_time": "2022-10-17T19:04:17.236Z"
   },
   {
    "duration": 17,
    "start_time": "2022-10-17T19:04:17.805Z"
   },
   {
    "duration": 483,
    "start_time": "2022-10-17T19:04:17.992Z"
   },
   {
    "duration": 7,
    "start_time": "2022-10-17T19:04:37.553Z"
   },
   {
    "duration": 354,
    "start_time": "2022-10-17T19:06:18.146Z"
   },
   {
    "duration": 6,
    "start_time": "2022-10-17T19:06:18.649Z"
   },
   {
    "duration": 541,
    "start_time": "2022-10-17T19:06:18.969Z"
   },
   {
    "duration": 718,
    "start_time": "2022-10-17T19:06:19.513Z"
   },
   {
    "duration": 372,
    "start_time": "2022-10-17T19:06:20.233Z"
   },
   {
    "duration": 17,
    "start_time": "2022-10-17T19:06:21.315Z"
   },
   {
    "duration": 428,
    "start_time": "2022-10-17T19:06:22.353Z"
   },
   {
    "duration": 421,
    "start_time": "2022-10-17T19:06:22.896Z"
   },
   {
    "duration": 25,
    "start_time": "2022-10-17T19:06:54.961Z"
   },
   {
    "duration": 6,
    "start_time": "2022-10-17T19:07:05.264Z"
   },
   {
    "duration": 168,
    "start_time": "2022-10-17T19:08:33.264Z"
   },
   {
    "duration": 105,
    "start_time": "2022-10-17T19:08:53.291Z"
   },
   {
    "duration": 296,
    "start_time": "2022-10-17T19:08:57.843Z"
   },
   {
    "duration": 6,
    "start_time": "2022-10-17T19:08:58.468Z"
   },
   {
    "duration": 445,
    "start_time": "2022-10-17T19:08:58.811Z"
   },
   {
    "duration": 647,
    "start_time": "2022-10-17T19:08:59.258Z"
   },
   {
    "duration": 533,
    "start_time": "2022-10-17T19:08:59.907Z"
   },
   {
    "duration": 19,
    "start_time": "2022-10-17T19:09:00.442Z"
   },
   {
    "duration": 573,
    "start_time": "2022-10-17T19:09:00.463Z"
   },
   {
    "duration": 368,
    "start_time": "2022-10-17T19:09:01.038Z"
   },
   {
    "duration": 21,
    "start_time": "2022-10-17T19:09:01.409Z"
   },
   {
    "duration": 4,
    "start_time": "2022-10-17T19:09:01.683Z"
   },
   {
    "duration": 470,
    "start_time": "2022-10-17T19:09:02.928Z"
   },
   {
    "duration": 5,
    "start_time": "2022-10-17T19:09:07.844Z"
   },
   {
    "duration": 8,
    "start_time": "2022-10-17T19:09:36.595Z"
   },
   {
    "duration": 10,
    "start_time": "2022-10-17T19:10:03.389Z"
   },
   {
    "duration": 4,
    "start_time": "2022-10-17T19:10:18.436Z"
   },
   {
    "duration": 9,
    "start_time": "2022-10-17T19:10:30.463Z"
   },
   {
    "duration": 10,
    "start_time": "2022-10-17T19:10:38.205Z"
   },
   {
    "duration": 8,
    "start_time": "2022-10-17T19:10:57.669Z"
   },
   {
    "duration": 4,
    "start_time": "2022-10-17T19:12:30.105Z"
   },
   {
    "duration": 4,
    "start_time": "2022-10-17T19:12:33.780Z"
   },
   {
    "duration": 305,
    "start_time": "2022-10-17T19:12:34.627Z"
   },
   {
    "duration": 6,
    "start_time": "2022-10-17T19:12:35.122Z"
   },
   {
    "duration": 484,
    "start_time": "2022-10-17T19:12:35.425Z"
   },
   {
    "duration": 847,
    "start_time": "2022-10-17T19:12:35.910Z"
   },
   {
    "duration": 404,
    "start_time": "2022-10-17T19:12:36.759Z"
   },
   {
    "duration": 16,
    "start_time": "2022-10-17T19:12:37.164Z"
   },
   {
    "duration": 445,
    "start_time": "2022-10-17T19:12:37.182Z"
   },
   {
    "duration": 273,
    "start_time": "2022-10-17T19:12:37.629Z"
   },
   {
    "duration": 19,
    "start_time": "2022-10-17T19:12:37.904Z"
   },
   {
    "duration": 4,
    "start_time": "2022-10-17T19:12:37.926Z"
   },
   {
    "duration": 469,
    "start_time": "2022-10-17T19:12:37.932Z"
   },
   {
    "duration": 5,
    "start_time": "2022-10-17T19:12:38.403Z"
   },
   {
    "duration": 8,
    "start_time": "2022-10-17T19:12:44.859Z"
   },
   {
    "duration": 4015,
    "start_time": "2022-10-17T19:12:50.523Z"
   },
   {
    "duration": 1412,
    "start_time": "2022-10-17T19:12:57.476Z"
   },
   {
    "duration": 513,
    "start_time": "2022-10-17T19:13:05.255Z"
   },
   {
    "duration": 580,
    "start_time": "2022-10-17T19:13:09.063Z"
   },
   {
    "duration": 7,
    "start_time": "2022-10-17T19:13:10.827Z"
   },
   {
    "duration": 6,
    "start_time": "2022-10-17T19:13:14.892Z"
   },
   {
    "duration": 381,
    "start_time": "2022-10-17T19:13:35.588Z"
   },
   {
    "duration": 70,
    "start_time": "2022-10-17T19:16:23.124Z"
   }
  ],
  "colab": {
   "name": "PySparkSprint.ipynb",
   "provenance": []
  },
  "kernelspec": {
   "display_name": "Python 3 (ipykernel)",
   "language": "python",
   "name": "python3"
  },
  "language_info": {
   "codemirror_mode": {
    "name": "ipython",
    "version": 3
   },
   "file_extension": ".py",
   "mimetype": "text/x-python",
   "name": "python",
   "nbconvert_exporter": "python",
   "pygments_lexer": "ipython3",
   "version": "3.9.5"
  },
  "toc": {
   "base_numbering": 1,
   "nav_menu": {},
   "number_sections": true,
   "sideBar": true,
   "skip_h1_title": true,
   "title_cell": "Table of Contents",
   "title_sidebar": "Contents",
   "toc_cell": false,
   "toc_position": {},
   "toc_section_display": true,
   "toc_window_display": false
  }
 },
 "nbformat": 4,
 "nbformat_minor": 5
}
